{
 "cells": [
  {
   "cell_type": "code",
   "execution_count": 1,
   "id": "aee31d3c",
   "metadata": {},
   "outputs": [],
   "source": [
    "import cv2"
   ]
  },
  {
   "cell_type": "code",
   "execution_count": 2,
   "id": "e4fa3d4d",
   "metadata": {},
   "outputs": [],
   "source": [
    "img = cv2.imread(r'/home/utgupta27/Pictures/ppicture.jpeg',1)"
   ]
  },
  {
   "cell_type": "code",
   "execution_count": 3,
   "id": "a9e61ea7",
   "metadata": {},
   "outputs": [],
   "source": [
    "cv2.imshow('image',img)"
   ]
  },
  {
   "cell_type": "code",
   "execution_count": null,
   "id": "23187adc",
   "metadata": {},
   "outputs": [],
   "source": []
  }
 ],
 "metadata": {
  "kernelspec": {
   "display_name": "Python 3",
   "language": "python",
   "name": "python3"
  },
  "language_info": {
   "codemirror_mode": {
    "name": "ipython",
    "version": 3
   },
   "file_extension": ".py",
   "mimetype": "text/x-python",
   "name": "python",
   "nbconvert_exporter": "python",
   "pygments_lexer": "ipython3",
   "version": "3.8.8"
  }
 },
 "nbformat": 4,
 "nbformat_minor": 5
}
